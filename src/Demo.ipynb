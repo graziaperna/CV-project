{
 "cells": [
  {
   "cell_type": "code",
   "execution_count": 1,
   "metadata": {},
   "outputs": [
    {
     "name": "stdout",
     "output_type": "stream",
     "text": [
      "Avvio del processo...\n"
     ]
    },
    {
     "ename": "KeyboardInterrupt",
     "evalue": "",
     "output_type": "error",
     "traceback": [
      "\u001b[1;31m---------------------------------------------------------------------------\u001b[0m",
      "\u001b[1;31mKeyboardInterrupt\u001b[0m                         Traceback (most recent call last)",
      "Cell \u001b[1;32mIn[1], line 41\u001b[0m\n\u001b[0;32m     38\u001b[0m load_button\u001b[39m.\u001b[39mpack()\n\u001b[0;32m     40\u001b[0m \u001b[39m# Esegui l'applicazione GUI\u001b[39;00m\n\u001b[1;32m---> 41\u001b[0m root\u001b[39m.\u001b[39;49mmainloop()\n",
      "File \u001b[1;32mc:\\Users\\USER\\anaconda3\\lib\\tkinter\\__init__.py:1429\u001b[0m, in \u001b[0;36mMisc.mainloop\u001b[1;34m(self, n)\u001b[0m\n\u001b[0;32m   1427\u001b[0m \u001b[39mdef\u001b[39;00m \u001b[39mmainloop\u001b[39m(\u001b[39mself\u001b[39m, n\u001b[39m=\u001b[39m\u001b[39m0\u001b[39m):\n\u001b[0;32m   1428\u001b[0m \u001b[39m    \u001b[39m\u001b[39m\"\"\"Call the mainloop of Tk.\"\"\"\u001b[39;00m\n\u001b[1;32m-> 1429\u001b[0m     \u001b[39mself\u001b[39;49m\u001b[39m.\u001b[39;49mtk\u001b[39m.\u001b[39;49mmainloop(n)\n",
      "\u001b[1;31mKeyboardInterrupt\u001b[0m: "
     ]
    }
   ],
   "source": [
    "import tkinter as tk\n",
    "from tkinter import filedialog\n",
    "import subprocess\n",
    "\n",
    "# Funzione per applicare il tuo processo a due immagini\n",
    "def process_images(image_path, image_path1):\n",
    "    # Sostituisci 'process_file.py' con il nome effettivo del tuo file di processo\n",
    "    #process_command = f\"Detection.py {image_path} {image_path1}\"\n",
    "\n",
    "    # Definisci il percorso completo o relativo al tuo script Python convertito\n",
    "    script_path = \"..\\src\\Detection.py\"\n",
    "\n",
    "    # Esegui il tuo script Python con subprocess\n",
    "    #subprocess.run([\"python\", script_path, image_path, image_path1])\n",
    "\n",
    "    try:\n",
    "        # Esegui il tuo script Python con subprocess\n",
    "        subprocess.run([\"python\", script_path, image_path, image_path1])\n",
    "        #subprocess.run(process_command, shell=True, check=True)\n",
    "    except subprocess.CalledProcessError as e:\n",
    "        print(f\"Errore nell'esecuzione del processo: {e}\")\n",
    "\n",
    "# Funzione per gestire il pulsante \"Carica Immagini\" nell'interfaccia utente\n",
    "def load_images_and_process():\n",
    "    image_path = filedialog.askopenfilename()\n",
    "    image_path1 = filedialog.askopenfilename()\n",
    "\n",
    "    if image_path and image_path1:\n",
    "        print(\"Avvio del processo...\")\n",
    "        process_images(image_path, image_path1)\n",
    "\n",
    "# Creare una finestra GUI\n",
    "root = tk.Tk()\n",
    "root.title(\"Elaborazione di Immagini\")\n",
    "\n",
    "# Pulsante per caricare due immagini\n",
    "load_button = tk.Button(root, text=\"Carica Immagini\", command=load_images_and_process)\n",
    "load_button.pack()\n",
    "\n",
    "# Esegui l'applicazione GUI\n",
    "root.mainloop()\n"
   ]
  }
 ],
 "metadata": {
  "kernelspec": {
   "display_name": "base",
   "language": "python",
   "name": "python3"
  },
  "language_info": {
   "codemirror_mode": {
    "name": "ipython",
    "version": 3
   },
   "file_extension": ".py",
   "mimetype": "text/x-python",
   "name": "python",
   "nbconvert_exporter": "python",
   "pygments_lexer": "ipython3",
   "version": "3.9.13"
  },
  "orig_nbformat": 4
 },
 "nbformat": 4,
 "nbformat_minor": 2
}
